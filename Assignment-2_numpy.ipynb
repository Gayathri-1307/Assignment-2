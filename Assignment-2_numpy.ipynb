{
 "cells": [
  {
   "cell_type": "code",
   "execution_count": 7,
   "id": "7936aca0",
   "metadata": {},
   "outputs": [
    {
     "name": "stdout",
     "output_type": "stream",
     "text": [
      "Empty array:\n",
      " [[0. 0. 0.]\n",
      " [0. 0. 0.]]\n",
      "Full array:\n",
      " [[5 5 5]\n",
      " [5 5 5]\n",
      " [5 5 5]]\n"
     ]
    }
   ],
   "source": [
    "#1.WAP(Write a program) to Create an Empty and a Full NumPy Array?\n",
    "import numpy as np\n",
    "empty_array=np.empty((2,3))\n",
    "full_array=np.full((3,3),5)\n",
    "print(\"Empty array:\\n\",empty_array)\n",
    "print(\"Full array:\\n\",full_array)"
   ]
  },
  {
   "cell_type": "code",
   "execution_count": 14,
   "id": "a888c7fd",
   "metadata": {},
   "outputs": [
    {
     "name": "stdout",
     "output_type": "stream",
     "text": [
      "Original array:\n",
      "[[ 1.  2.  3.]\n",
      " [ 4.  5. nan]\n",
      " [ 7.  8.  9.]\n",
      " [ 1.  0.  1.]]\n",
      "Remove all non-numeric elements of the said array\n",
      "[[1. 2. 3.]\n",
      " [7. 8. 9.]\n",
      " [1. 0. 1.]]\n"
     ]
    }
   ],
   "source": [
    "#2.WAP to Remove rows in Numpy array that contains non-numeric values?\n",
    "import numpy as np\n",
    "x = np.array([[1,2,3], [4,5,np.nan], [7,8,9], [True, False, True]])\n",
    "print(\"Original array:\")\n",
    "print(x)\n",
    "print(\"Remove all non-numeric elements of the said array\")\n",
    "print(x[~np.isnan(x).any(axis=1)])"
   ]
  },
  {
   "cell_type": "code",
   "execution_count": 22,
   "id": "4a99baca",
   "metadata": {},
   "outputs": [
    {
     "name": "stdout",
     "output_type": "stream",
     "text": [
      "3\n"
     ]
    }
   ],
   "source": [
    "#3.WAP to Find the number of occurrences of a sequence in a NumPy array?\n",
    "import numpy\n",
    "arr = numpy.array([[13,7,6,8],\n",
    "                   [9,13,7,8],\n",
    "                   [4,6,13,8],\n",
    "                   [13,7,6,9]])\n",
    "output = repr(arr).count(\"6\")\n",
    "print(output)"
   ]
  },
  {
   "cell_type": "code",
   "execution_count": 24,
   "id": "3cd90e34",
   "metadata": {},
   "outputs": [
    {
     "name": "stdout",
     "output_type": "stream",
     "text": [
      "Original array:\n",
      "[13  5  7 13  6  8 13  9 13]\n",
      "Most frequent value in the above array:\n",
      "13\n"
     ]
    }
   ],
   "source": [
    "#4.WAP to Find the most frequent value in a NumPy array?\n",
    "import numpy as np\n",
    "arr = np.array([13,5,7,13,6,8,13,9,13,])\n",
    "print(\"Original array:\")\n",
    "print(arr)  \n",
    "print(\"Most frequent value in the above array:\")\n",
    "print(np.bincount(arr).argmax())"
   ]
  },
  {
   "cell_type": "code",
   "execution_count": 27,
   "id": "25f36d42",
   "metadata": {},
   "outputs": [
    {
     "name": "stdout",
     "output_type": "stream",
     "text": [
      "Array-1:\n",
      " [1 2]\n",
      "Array-2:\n",
      " [4 6]\n",
      "Combine array:\n",
      " [5 8]\n"
     ]
    }
   ],
   "source": [
    "#5.WAP to build an array of add of two NumPy arrays?\n",
    "import numpy as np\n",
    "array_1 = np.array([1, 2])\n",
    "array_2 = np.array([4, 6])\n",
    "print(\"Array-1:\\n\",array_1) \n",
    "print(\"Array-2:\\n\",array_2)  \n",
    "add = array_1+array_2 \n",
    "print(\"Combine array:\\n\",add)"
   ]
  },
  {
   "cell_type": "code",
   "execution_count": 28,
   "id": "742b7dfd",
   "metadata": {},
   "outputs": [
    {
     "name": "stdout",
     "output_type": "stream",
     "text": [
      "[[1 2 3]\n",
      " [4 5 6]]\n",
      "Indices of elements <4\n",
      "(array([0, 0, 0], dtype=int64), array([0, 1, 2], dtype=int64))\n",
      "Elements which are <4\n",
      "[1 2 3]\n"
     ]
    }
   ],
   "source": [
    "#6.WAP to Return the indices of elements where the given condition is satisfied.\n",
    "import numpy as np\n",
    "a = np.array([[1, 2, 3], [4, 5, 6]])  \n",
    "print(a)  \n",
    "print ('Indices of elements <4')  \n",
    "b = np.where(a<4)\n",
    "print(b)  \n",
    "print(\"Elements which are <4\")\n",
    "print(a[b])"
   ]
  },
  {
   "cell_type": "code",
   "execution_count": 29,
   "id": "a051c8ea",
   "metadata": {},
   "outputs": [
    {
     "name": "stdout",
     "output_type": "stream",
     "text": [
      "Original matrix = \n",
      "[[1 2 3]\n",
      " [4 5 6]]\n",
      "Matrix x Scalar = \n",
      "[[ 2  4  6]\n",
      " [ 8 10 12]]\n"
     ]
    }
   ],
   "source": [
    "#7.WAP to Multiplying a matrix (numpy array) by a scalar\n",
    "import numpy as np\n",
    "matrix = np.array([[1, 2, 3], [4, 5, 6]])\n",
    "print (\"Original matrix = \")\n",
    "print (matrix)\n",
    "scalar = 2\n",
    "new_matrix = matrix * scalar\n",
    "print (\"Matrix x Scalar = \")\n",
    "print (new_matrix)"
   ]
  },
  {
   "cell_type": "code",
   "execution_count": 32,
   "id": "5b7274aa",
   "metadata": {},
   "outputs": [
    {
     "name": "stdout",
     "output_type": "stream",
     "text": [
      "Original aray:\n",
      " [[2.5  3.8  1.5 ]\n",
      " [4.7  2.9  1.56]]\n",
      "Reshaped array:\n",
      " [[2.5  3.8 ]\n",
      " [1.5  4.7 ]\n",
      " [2.9  1.56]]\n"
     ]
    }
   ],
   "source": [
    "#8.WAP to Array re-dimensioning of giving data.\n",
    "import numpy as np\n",
    "a = np.array([[2.5, 3.8, 1.5],\n",
    "              [4.7, 2.9, 1.56]])\n",
    "reshaped_array=a.reshape(3,2)\n",
    "print(\"Original aray:\\n\",a)\n",
    "print(\"Reshaped array:\\n\",reshaped_array)"
   ]
  },
  {
   "cell_type": "code",
   "execution_count": 34,
   "id": "e6377405",
   "metadata": {},
   "outputs": [
    {
     "name": "stdout",
     "output_type": "stream",
     "text": [
      "Binary array:\n",
      " [[1 0 0]\n",
      " [1 1 1]\n",
      " [0 0 0]]\n",
      "Boolean array:\n",
      " [[ True False False]\n",
      " [ True  True  True]\n",
      " [False False False]]\n"
     ]
    }
   ],
   "source": [
    "#9.WAP to Obtaining Boolean Array from Binary Array of given data?\n",
    "import numpy as np\n",
    "a = np.array([[1, 0, 0],\n",
    "              [1, 1, 1],\n",
    "              [0, 0, 0]])\n",
    "boolean=a==1\n",
    "print(\"Binary array:\\n\",a)\n",
    "print(\"Boolean array:\\n\",boolean)"
   ]
  },
  {
   "cell_type": "code",
   "execution_count": 37,
   "id": "64a73b6a",
   "metadata": {},
   "outputs": [
    {
     "name": "stdout",
     "output_type": "stream",
     "text": [
      "1st Input array : \n",
      " [[1 2 3]\n",
      " [3 5 6]]\n",
      "2nd Input array : \n",
      " [[4 5 6]\n",
      " [2 5 8]]\n",
      "Output horizontally stacked array:\n",
      "  [[1 2 3 4 5 6]\n",
      " [3 5 6 2 5 8]]\n"
     ]
    }
   ],
   "source": [
    "#10.WAP to Horizontal Stacking of Numpy Arrays?\n",
    "import numpy as np\n",
    "arr1 = np.array([[ 1, 2, 3],[3,5,6]])\n",
    "print (\"1st Input array : \\n\", arr1)   \n",
    "arr2 = np.array([[4, 5, 6],[2,5,8]])\n",
    "print (\"2nd Input array : \\n\", arr2)   \n",
    "arr3 = np.hstack((arr1, arr2))\n",
    "print (\"Output horizontally stacked array:\\n \", arr3)"
   ]
  },
  {
   "cell_type": "code",
   "execution_count": 41,
   "id": "5ba63c3c",
   "metadata": {},
   "outputs": [
    {
     "name": "stdout",
     "output_type": "stream",
     "text": [
      "Random integers between 0 and 9: \n",
      "0\n",
      "1\n",
      "7\n",
      "1\n",
      "8\n",
      "3\n",
      "0\n",
      "0\n",
      "4\n"
     ]
    }
   ],
   "source": [
    "#11.Array Generation of random integers within a specified range?\n",
    "import random \n",
    "print(\"Random integers between 0 and 9: \")\n",
    "for i in range(1,10):\n",
    "    y = random.randrange(9)\n",
    "    print(y)"
   ]
  },
  {
   "cell_type": "code",
   "execution_count": 42,
   "id": "1626889b",
   "metadata": {},
   "outputs": [
    {
     "name": "stdout",
     "output_type": "stream",
     "text": [
      "Matrix a:\n",
      " [[1 2 3]\n",
      " [4 5 6]\n",
      " [7 8 9]]\n",
      "Matrix b:\n",
      " [[ 2  3  4]\n",
      " [ 5  6  7]\n",
      " [ 8  9 10]]\n",
      "Multiplication of a and b matrix:\n",
      " [[ 2  6 12]\n",
      " [20 30 42]\n",
      " [56 72 90]]\n"
     ]
    }
   ],
   "source": [
    "#12.Matrix Multiplication of Given Data?\n",
    "import numpy as np\n",
    "a = np.array([[1,2,3],\n",
    "              [4,5,6],\n",
    "              [7,8,9]])\n",
    "b = np.array([[2,3,4],\n",
    "              [5,6,7],\n",
    "              [8,9,10]])\n",
    "result=np.multiply(a,b)\n",
    "print(\"Matrix a:\\n\",a)\n",
    "print(\"Matrix b:\\n\",b)\n",
    "print(\"Multiplication of a and b matrix:\\n\",result)"
   ]
  },
  {
   "cell_type": "code",
   "execution_count": null,
   "id": "96764997",
   "metadata": {},
   "outputs": [],
   "source": []
  }
 ],
 "metadata": {
  "kernelspec": {
   "display_name": "Python 3 (ipykernel)",
   "language": "python",
   "name": "python3"
  },
  "language_info": {
   "codemirror_mode": {
    "name": "ipython",
    "version": 3
   },
   "file_extension": ".py",
   "mimetype": "text/x-python",
   "name": "python",
   "nbconvert_exporter": "python",
   "pygments_lexer": "ipython3",
   "version": "3.10.9"
  }
 },
 "nbformat": 4,
 "nbformat_minor": 5
}
